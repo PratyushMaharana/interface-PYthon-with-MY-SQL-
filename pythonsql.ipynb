{
  "nbformat": 4,
  "nbformat_minor": 0,
  "metadata": {
    "colab": {
      "provenance": [],
      "authorship_tag": "ABX9TyNeuKyx8Xx14mURr1WJYeJp",
      "include_colab_link": true
    },
    "kernelspec": {
      "name": "python3",
      "display_name": "Python 3"
    },
    "language_info": {
      "name": "python"
    }
  },
  "cells": [
    {
      "cell_type": "markdown",
      "metadata": {
        "id": "view-in-github",
        "colab_type": "text"
      },
      "source": [
        "<a href=\"https://colab.research.google.com/github/PratyushMaharana/interface-PYthon-with-MY-SQL-/blob/main/pythonsql.ipynb\" target=\"_parent\"><img src=\"https://colab.research.google.com/assets/colab-badge.svg\" alt=\"Open In Colab\"/></a>"
      ]
    },
    {
      "cell_type": "code",
      "execution_count": 3,
      "metadata": {
        "colab": {
          "base_uri": "https://localhost:8080/"
        },
        "id": "SNcZ3BxI8G5F",
        "outputId": "1948ffdd-c7ba-4dcc-e2f4-7834af14a49f"
      },
      "outputs": [
        {
          "output_type": "stream",
          "name": "stdout",
          "text": [
            "Collecting mysql-connector-python\n",
            "  Downloading mysql_connector_python-9.4.0-cp312-cp312-manylinux_2_28_x86_64.whl.metadata (7.5 kB)\n",
            "Downloading mysql_connector_python-9.4.0-cp312-cp312-manylinux_2_28_x86_64.whl (33.9 MB)\n",
            "\u001b[2K   \u001b[90m━━━━━━━━━━━━━━━━━━━━━━━━━━━━━━━━━━━━━━━━\u001b[0m \u001b[32m33.9/33.9 MB\u001b[0m \u001b[31m59.9 MB/s\u001b[0m eta \u001b[36m0:00:00\u001b[0m\n",
            "\u001b[?25hInstalling collected packages: mysql-connector-python\n",
            "Successfully installed mysql-connector-python-9.4.0\n"
          ]
        }
      ],
      "source": [
        "!pip install mysql-connector-python"
      ]
    },
    {
      "cell_type": "code",
      "source": [
        "# STEP 1: Install MySQL server\n",
        "!apt-get -y install mysql-server > /dev/null\n",
        "\n",
        "# STEP 2: Start MySQL service\n",
        "!service mysql start\n",
        "\n",
        "# STEP 3: Set root password to 'root' and allow native password auth\n",
        "!mysql -e \"ALTER USER 'root'@'localhost' IDENTIFIED WITH mysql_native_password BY 'root'; FLUSH PRIVILEGES;\"\n",
        "\n",
        "# STEP 4: Create a new database (example: mydb)\n",
        "!mysql -u root -proot -e \"CREATE DATABASE mydb;\"\n",
        "\n",
        "# STEP 5: Show all databases to confirm\n",
        "!mysql -u root -proot -e \"SHOW DATABASES;\"\n"
      ],
      "metadata": {
        "colab": {
          "base_uri": "https://localhost:8080/"
        },
        "id": "vHsMfhKgF5sM",
        "outputId": "d99a8a28-e028-49d5-a4c1-de347307f9bd"
      },
      "execution_count": 4,
      "outputs": [
        {
          "output_type": "stream",
          "name": "stdout",
          "text": [
            " * Starting MySQL database server mysqld\n",
            "su: warning: cannot change directory to /nonexistent: No such file or directory\n",
            "   ...done.\n",
            "mysql: [Warning] Using a password on the command line interface can be insecure.\n",
            "mysql: [Warning] Using a password on the command line interface can be insecure.\n",
            "+--------------------+\n",
            "| Database           |\n",
            "+--------------------+\n",
            "| information_schema |\n",
            "| mydb               |\n",
            "| mysql              |\n",
            "| performance_schema |\n",
            "| sys                |\n",
            "+--------------------+\n"
          ]
        }
      ]
    },
    {
      "cell_type": "markdown",
      "source": [
        "#*Importing mysql connector in colab*"
      ],
      "metadata": {
        "id": "BbV2oobzVdfp"
      }
    },
    {
      "cell_type": "code",
      "source": [
        "import mysql.connector as sql"
      ],
      "metadata": {
        "id": "XRttp7Ig8Hq_"
      },
      "execution_count": 5,
      "outputs": []
    },
    {
      "cell_type": "markdown",
      "source": [
        "# *creating a database*"
      ],
      "metadata": {
        "id": "KKSd4f79WBtY"
      }
    },
    {
      "cell_type": "code",
      "source": [
        "con = sql.connect(\n",
        "    host=\"localhost\",\n",
        "    user=\"root\",\n",
        "    password=\"root\"\n",
        ")\n",
        "\n",
        "cursor = con.cursor()\n",
        "cursor.execute(\"CREATE DATABASE APPLE1\")\n",
        "con.commit()\n",
        "print(\"connected\")"
      ],
      "metadata": {
        "colab": {
          "base_uri": "https://localhost:8080/"
        },
        "id": "UvnWhCE7FcqH",
        "outputId": "45b5c356-1246-44b7-987f-bda977553a5c"
      },
      "execution_count": 6,
      "outputs": [
        {
          "output_type": "stream",
          "name": "stdout",
          "text": [
            "connected\n"
          ]
        }
      ]
    },
    {
      "cell_type": "markdown",
      "source": [
        "# *create a table and insert the value in the table*"
      ],
      "metadata": {
        "id": "ewHKiPFuWRrl"
      }
    },
    {
      "cell_type": "code",
      "source": [
        "import mysql.connector as sql\n",
        "con=sql.connect(host=\"localhost\",user=\"root\",password=\"root\",database=\"APPLE1\")\n",
        "cursor=con.cursor()\n",
        "cursor.execute('''CREATE TABLE IF NOT EXISTS students(\n",
        "  ID INT AUTO_INCREMENT PRIMARY KEY,\n",
        "  NAME VARCHAR(50),\n",
        "  AGE INT,\n",
        "  GRADE VARCHAR(60)\n",
        ")\n",
        "''')\n",
        "cursor.execute(\"INSERT INTO students (name, age, grade) VALUES ('Pratyush', 17, 'A')\")\n",
        "cursor.execute(\"INSERT INTO students (name, age, grade) VALUES ('Piyush', 25, 'A')\")\n",
        "con.commit()"
      ],
      "metadata": {
        "id": "go6Ak3-dPNBA"
      },
      "execution_count": 7,
      "outputs": []
    },
    {
      "cell_type": "code",
      "source": [
        "cursor.execute(\"SELECT*FROM students\")\n",
        "rows=cursor.fetchmany(1)\n",
        "for row in rows:\n",
        "  print(row)"
      ],
      "metadata": {
        "colab": {
          "base_uri": "https://localhost:8080/"
        },
        "id": "D7_KX3vyTM3X",
        "outputId": "ca378538-8d2d-4e9b-9bb5-1d0f07086ff3"
      },
      "execution_count": 9,
      "outputs": [
        {
          "output_type": "stream",
          "name": "stdout",
          "text": [
            "(1, 'Pratyush', 17, 'A')\n"
          ]
        }
      ]
    },
    {
      "cell_type": "code",
      "source": [
        "import mysql.connector as sql\n",
        "\n",
        "con = sql.connect(\n",
        "    host=\"localhost\",\n",
        "    user=\"root\",\n",
        "    password=\"root\",\n",
        "    database=\"APPLE1\"\n",
        ")\n",
        "cursor = con.cursor()\n",
        "name_to_update = 'Pratyush'\n",
        "new_age = 18\n",
        "new_grade = 'A+'\n",
        "\n",
        "cursor.execute(\"UPDATE students SET AGE = %s, GRADE = %s WHERE NAME = %s\", (new_age, new_grade, name_to_update))\n",
        "con.commit()\n",
        "\n",
        "print(cursor.rowcount, \"record(s) updated successfully .\")\n"
      ],
      "metadata": {
        "id": "X1LZlz1pTjXQ",
        "colab": {
          "base_uri": "https://localhost:8080/"
        },
        "outputId": "9425a657-72f4-489d-f20d-a0f4751be2ed"
      },
      "execution_count": 12,
      "outputs": [
        {
          "output_type": "stream",
          "name": "stdout",
          "text": [
            "0 record(s) updated successfully .\n"
          ]
        }
      ]
    },
    {
      "cell_type": "code",
      "source": [
        "import mysql.connector as sql\n",
        "con = sql.connect(\n",
        "    host=\"localhost\",\n",
        "    user=\"root\",\n",
        "    password=\"root\",\n",
        "    database=\"APPLE1\"\n",
        ")\n",
        "cursor = con.cursor()\n",
        "name_to_delete = 'Piyush'\n",
        "cursor.execute(\"DELETE FROM students WHERE NAME = %s\", (name_to_delete,))\n",
        "con.commit()\n",
        "\n",
        "print(cursor.rowcount, \"record(s) deleted successfully.\")"
      ],
      "metadata": {
        "colab": {
          "base_uri": "https://localhost:8080/"
        },
        "id": "Rl0qgEEKv9CU",
        "outputId": "c22487b8-d2b9-4dec-c7bd-b5f802815fb1"
      },
      "execution_count": 13,
      "outputs": [
        {
          "output_type": "stream",
          "name": "stdout",
          "text": [
            "1 record(s) deleted successfully.\n"
          ]
        }
      ]
    }
  ]
}